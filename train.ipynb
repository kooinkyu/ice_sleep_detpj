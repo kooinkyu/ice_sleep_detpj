{
 "cells": [
  {
   "cell_type": "code",
   "execution_count": 1,
   "id": "b8084214",
   "metadata": {},
   "outputs": [
    {
     "name": "stdout",
     "output_type": "stream",
     "text": [
      "True\n",
      "NVIDIA GeForce RTX 4070 Ti\n"
     ]
    }
   ],
   "source": [
    "import torch\n",
    "print(torch.cuda.is_available())\n",
    "print(torch.cuda.get_device_name(0))\n"
   ]
  },
  {
   "cell_type": "code",
   "execution_count": 2,
   "id": "2372cda7",
   "metadata": {},
   "outputs": [
    {
     "name": "stdout",
     "output_type": "stream",
     "text": [
      "/home/jovyan/ice_sleep_detpj\n"
     ]
    }
   ],
   "source": [
    "cd ice_sleep_detpj/"
   ]
  },
  {
   "cell_type": "code",
   "execution_count": 3,
   "id": "dd42b4d9",
   "metadata": {},
   "outputs": [
    {
     "name": "stdout",
     "output_type": "stream",
     "text": [
      "CITATION.cff     \u001b[0m\u001b[01;34m__pycache__\u001b[0m/   export.py         \u001b[01;34mruns\u001b[0m/           val.py\n",
      "CONTRIBUTING.md  benchmarks.py  hubconf.py        \u001b[01;34msegment\u001b[0m/\n",
      "LICENSE          \u001b[01;34mclassify\u001b[0m/      \u001b[01;34mmodels\u001b[0m/           train.py\n",
      "README.md        \u001b[01;34mdata\u001b[0m/          pyproject.toml    tutorial.ipynb\n",
      "README.zh-CN.md  detect.py      requirements.txt  \u001b[01;34mutils\u001b[0m/\n"
     ]
    }
   ],
   "source": [
    "ls"
   ]
  },
  {
   "cell_type": "code",
   "execution_count": 4,
   "id": "2a847c3b",
   "metadata": {},
   "outputs": [
    {
     "name": "stdout",
     "output_type": "stream",
     "text": [
      "Looking in indexes: https://pypi.org/simple, https://pypi.ngc.nvidia.com\n",
      "Requirement already satisfied: opencv-python in /opt/conda/lib/python3.11/site-packages (4.11.0.86)\n",
      "Requirement already satisfied: numpy>=1.21.2 in /opt/conda/lib/python3.11/site-packages (from opencv-python) (1.26.4)\n"
     ]
    }
   ],
   "source": [
    "!pip install opencv-python"
   ]
  },
  {
   "cell_type": "code",
   "execution_count": 7,
   "id": "4666bf13",
   "metadata": {},
   "outputs": [
    {
     "name": "stdout",
     "output_type": "stream",
     "text": [
      "./data/ice_driver.yaml\n"
     ]
    }
   ],
   "source": [
    "!find . -name \"*ice_driver.yaml\""
   ]
  },
  {
   "cell_type": "code",
   "execution_count": null,
   "id": "03b34590",
   "metadata": {},
   "outputs": [
    {
     "name": "stdout",
     "output_type": "stream",
     "text": [
      "2025-05-03 14:07:27.805891: E external/local_xla/xla/stream_executor/cuda/cuda_dnn.cc:9261] Unable to register cuDNN factory: Attempting to register factory for plugin cuDNN when one has already been registered\n",
      "2025-05-03 14:07:27.805918: E external/local_xla/xla/stream_executor/cuda/cuda_fft.cc:607] Unable to register cuFFT factory: Attempting to register factory for plugin cuFFT when one has already been registered\n",
      "2025-05-03 14:07:27.806435: E external/local_xla/xla/stream_executor/cuda/cuda_blas.cc:1515] Unable to register cuBLAS factory: Attempting to register factory for plugin cuBLAS when one has already been registered\n",
      "\u001b[34m\u001b[1mtrain: \u001b[0mweights=yolov5s.pt, cfg=, data=data.yaml, hyp=data/hyps/hyp.scratch-low.yaml, epochs=100, batch_size=16, imgsz=640, rect=False, resume=False, nosave=False, noval=False, noautoanchor=False, noplots=False, evolve=None, evolve_population=data/hyps, resume_evolve=None, bucket=, cache=None, image_weights=False, device=, multi_scale=False, single_cls=False, optimizer=SGD, sync_bn=False, workers=8, project=runs/train, name=ice_eye_mouth, exist_ok=False, quad=False, cos_lr=False, label_smoothing=0.0, patience=100, freeze=[0], save_period=-1, seed=0, local_rank=-1, entity=None, upload_dataset=False, bbox_interval=-1, artifact_alias=latest, ndjson_console=False, ndjson_file=False\n",
      "\u001b[34m\u001b[1mgithub: \u001b[0mup to date with https://github.com/ultralytics/yolov5 ✅\n",
      "Traceback (most recent call last):\n",
      "  File \"/home/jovyan/ice_sleep_detpj/train.py\", line 986, in <module>\n",
      "    main(opt)\n",
      "  File \"/home/jovyan/ice_sleep_detpj/train.py\", line 656, in main\n",
      "    check_file(opt.data),\n",
      "    ^^^^^^^^^^^^^^^^^^^^\n",
      "  File \"/home/jovyan/ice_sleep_detpj/utils/general.py\", line 506, in check_file\n",
      "    assert len(files), f\"File not found: {file}\"  # assert file was found\n",
      "           ^^^^^^^^^^\n",
      "AssertionError: File not found: data.yaml\n"
     ]
    }
   ],
   "source": [
    "!python train.py --img 640 --batch 16 --epochs 100 --data data/ice_driver.yaml --weights yolov5s.pt --name ice_eye_mouth\n"
   ]
  }
 ],
 "metadata": {
  "kernelspec": {
   "display_name": "Python 3 (ipykernel)",
   "language": "python",
   "name": "python3"
  },
  "language_info": {
   "codemirror_mode": {
    "name": "ipython",
    "version": 3
   },
   "file_extension": ".py",
   "mimetype": "text/x-python",
   "name": "python",
   "nbconvert_exporter": "python",
   "pygments_lexer": "ipython3",
   "version": "3.11.9"
  }
 },
 "nbformat": 4,
 "nbformat_minor": 5
}
